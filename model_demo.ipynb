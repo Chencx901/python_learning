{
 "cells": [
  {
   "cell_type": "code",
   "execution_count": 2,
   "metadata": {},
   "outputs": [],
   "source": [
    "#导入包\n",
    "# import pandas as pd\n",
    "# import numpy as np\n",
    "import seaborn as sns\n",
    "import matplotlib.pyplot as plt\n",
    "%maplotlib inline\n",
    "import warnings\n",
    "warnings.filterwarnings('ignore')"
   ]
  },
  {
   "cell_type": "code",
   "execution_count": 3,
   "metadata": {},
   "outputs": [],
   "source": [
    "# import data\n",
    "train = pd.read_csv(\"F:\\\\python_learning\\\\titanic\\\\train.csv\")\n",
    "test = pd.read_csv(\"F:\\\\python_learning\\\\titanic\\\\test.csv\")"
   ]
  },
  {
   "cell_type": "code",
   "execution_count": null,
   "metadata": {},
   "outputs": [],
   "source": [
    "# 查找空值列\n",
    "empty_list = []\n",
    "for var in train.columns:\n",
    "    if sum(train[var].isna())>0 or sum(train[var].isnull())>0:\n",
    "        empty_list.append(var)\n",
    "empty_list\n",
    "train.isnull().sum()"
   ]
  },
  {
   "cell_type": "code",
   "execution_count": null,
   "metadata": {},
   "outputs": [],
   "source": [
    "# 分类变量\n",
    "categorical_list = []\n",
    "# indicator: id/idnumber/phone etc\n",
    "indicator_list = []"
   ]
  },
  {
   "cell_type": "code",
   "execution_count": null,
   "metadata": {},
   "outputs": [],
   "source": [
    "# 数值变量\n",
    "numeric_list = []\n",
    "for col in train.columns:\n",
    "    if col not in categorical_list+indicator_list:\n",
    "        numeric_list.append(numberic_list)"
   ]
  },
  {
   "cell_type": "code",
   "execution_count": null,
   "metadata": {},
   "outputs": [],
   "source": [
    "# 查看数值/分类变量的大致情况\n",
    "train[numeric_list].describe()\n",
    "train[categorical_list].describe()"
   ]
  },
  {
   "cell_type": "code",
   "execution_count": null,
   "metadata": {},
   "outputs": [],
   "source": [
    "# 目标变量分布\n",
    "# 看是否需要重新给权重\n",
    "f,ax = plt.subplots(1,2,figsize = (18,8))\n",
    "train['target'].value_counts().plot.pie(explode = [0,0.1],autopct = \"%1.1f%%\",ax = ax[0],shadow = True)\n",
    "ax[0].set_title('target')\n",
    "ax[0].set_ylabel('')\n",
    "sns.countplot('target',data = train,ax=ax[1])\n",
    "ax[1].set_title('target')\n",
    "plt.show()"
   ]
  }
 ],
 "metadata": {
  "kernelspec": {
   "display_name": "Python 3",
   "language": "python",
   "name": "python3"
  },
  "language_info": {
   "codemirror_mode": {
    "name": "ipython",
    "version": 3
   },
   "file_extension": ".py",
   "mimetype": "text/x-python",
   "name": "python",
   "nbconvert_exporter": "python",
   "pygments_lexer": "ipython3",
   "version": "3.6.5"
  }
 },
 "nbformat": 4,
 "nbformat_minor": 2
}
