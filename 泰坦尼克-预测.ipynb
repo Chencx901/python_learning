{
 "cells": [
  {
   "cell_type": "code",
   "execution_count": 1,
   "metadata": {},
   "outputs": [],
   "source": [
    "#导入包\n",
    "# import pandas as pd\n",
    "# import numpy as np\n",
    "import seaborn as sns\n",
    "import matplotlib.pyplot as plt\n",
    "%matplotlib inline\n",
    "import warnings\n",
    "warnings.filterwarnings('ignore')"
   ]
  },
  {
   "cell_type": "code",
   "execution_count": 2,
   "metadata": {},
   "outputs": [],
   "source": [
    "# import data\n",
    "train = pd.read_csv(\"F:\\\\python_learning\\\\titanic\\\\train.csv\")\n",
    "test = pd.read_csv(\"F:\\\\python_learning\\\\titanic\\\\test.csv\")"
   ]
  },
  {
   "cell_type": "code",
   "execution_count": 3,
   "metadata": {},
   "outputs": [
    {
     "data": {
      "text/html": [
       "<div>\n",
       "<style scoped>\n",
       "    .dataframe tbody tr th:only-of-type {\n",
       "        vertical-align: middle;\n",
       "    }\n",
       "\n",
       "    .dataframe tbody tr th {\n",
       "        vertical-align: top;\n",
       "    }\n",
       "\n",
       "    .dataframe thead th {\n",
       "        text-align: right;\n",
       "    }\n",
       "</style>\n",
       "<table border=\"1\" class=\"dataframe\">\n",
       "  <thead>\n",
       "    <tr style=\"text-align: right;\">\n",
       "      <th></th>\n",
       "      <th>PassengerId</th>\n",
       "      <th>Survived</th>\n",
       "      <th>Pclass</th>\n",
       "      <th>Name</th>\n",
       "      <th>Sex</th>\n",
       "      <th>Age</th>\n",
       "      <th>SibSp</th>\n",
       "      <th>Parch</th>\n",
       "      <th>Ticket</th>\n",
       "      <th>Fare</th>\n",
       "      <th>Cabin</th>\n",
       "      <th>Embarked</th>\n",
       "    </tr>\n",
       "  </thead>\n",
       "  <tbody>\n",
       "    <tr>\n",
       "      <th>0</th>\n",
       "      <td>1</td>\n",
       "      <td>0</td>\n",
       "      <td>3</td>\n",
       "      <td>Braund, Mr. Owen Harris</td>\n",
       "      <td>male</td>\n",
       "      <td>22.0</td>\n",
       "      <td>1</td>\n",
       "      <td>0</td>\n",
       "      <td>A/5 21171</td>\n",
       "      <td>7.2500</td>\n",
       "      <td>NaN</td>\n",
       "      <td>S</td>\n",
       "    </tr>\n",
       "    <tr>\n",
       "      <th>1</th>\n",
       "      <td>2</td>\n",
       "      <td>1</td>\n",
       "      <td>1</td>\n",
       "      <td>Cumings, Mrs. John Bradley (Florence Briggs Th...</td>\n",
       "      <td>female</td>\n",
       "      <td>38.0</td>\n",
       "      <td>1</td>\n",
       "      <td>0</td>\n",
       "      <td>PC 17599</td>\n",
       "      <td>71.2833</td>\n",
       "      <td>C85</td>\n",
       "      <td>C</td>\n",
       "    </tr>\n",
       "    <tr>\n",
       "      <th>2</th>\n",
       "      <td>3</td>\n",
       "      <td>1</td>\n",
       "      <td>3</td>\n",
       "      <td>Heikkinen, Miss. Laina</td>\n",
       "      <td>female</td>\n",
       "      <td>26.0</td>\n",
       "      <td>0</td>\n",
       "      <td>0</td>\n",
       "      <td>STON/O2. 3101282</td>\n",
       "      <td>7.9250</td>\n",
       "      <td>NaN</td>\n",
       "      <td>S</td>\n",
       "    </tr>\n",
       "    <tr>\n",
       "      <th>3</th>\n",
       "      <td>4</td>\n",
       "      <td>1</td>\n",
       "      <td>1</td>\n",
       "      <td>Futrelle, Mrs. Jacques Heath (Lily May Peel)</td>\n",
       "      <td>female</td>\n",
       "      <td>35.0</td>\n",
       "      <td>1</td>\n",
       "      <td>0</td>\n",
       "      <td>113803</td>\n",
       "      <td>53.1000</td>\n",
       "      <td>C123</td>\n",
       "      <td>S</td>\n",
       "    </tr>\n",
       "    <tr>\n",
       "      <th>4</th>\n",
       "      <td>5</td>\n",
       "      <td>0</td>\n",
       "      <td>3</td>\n",
       "      <td>Allen, Mr. William Henry</td>\n",
       "      <td>male</td>\n",
       "      <td>35.0</td>\n",
       "      <td>0</td>\n",
       "      <td>0</td>\n",
       "      <td>373450</td>\n",
       "      <td>8.0500</td>\n",
       "      <td>NaN</td>\n",
       "      <td>S</td>\n",
       "    </tr>\n",
       "    <tr>\n",
       "      <th>5</th>\n",
       "      <td>6</td>\n",
       "      <td>0</td>\n",
       "      <td>3</td>\n",
       "      <td>Moran, Mr. James</td>\n",
       "      <td>male</td>\n",
       "      <td>NaN</td>\n",
       "      <td>0</td>\n",
       "      <td>0</td>\n",
       "      <td>330877</td>\n",
       "      <td>8.4583</td>\n",
       "      <td>NaN</td>\n",
       "      <td>Q</td>\n",
       "    </tr>\n",
       "    <tr>\n",
       "      <th>6</th>\n",
       "      <td>7</td>\n",
       "      <td>0</td>\n",
       "      <td>1</td>\n",
       "      <td>McCarthy, Mr. Timothy J</td>\n",
       "      <td>male</td>\n",
       "      <td>54.0</td>\n",
       "      <td>0</td>\n",
       "      <td>0</td>\n",
       "      <td>17463</td>\n",
       "      <td>51.8625</td>\n",
       "      <td>E46</td>\n",
       "      <td>S</td>\n",
       "    </tr>\n",
       "    <tr>\n",
       "      <th>7</th>\n",
       "      <td>8</td>\n",
       "      <td>0</td>\n",
       "      <td>3</td>\n",
       "      <td>Palsson, Master. Gosta Leonard</td>\n",
       "      <td>male</td>\n",
       "      <td>2.0</td>\n",
       "      <td>3</td>\n",
       "      <td>1</td>\n",
       "      <td>349909</td>\n",
       "      <td>21.0750</td>\n",
       "      <td>NaN</td>\n",
       "      <td>S</td>\n",
       "    </tr>\n",
       "    <tr>\n",
       "      <th>8</th>\n",
       "      <td>9</td>\n",
       "      <td>1</td>\n",
       "      <td>3</td>\n",
       "      <td>Johnson, Mrs. Oscar W (Elisabeth Vilhelmina Berg)</td>\n",
       "      <td>female</td>\n",
       "      <td>27.0</td>\n",
       "      <td>0</td>\n",
       "      <td>2</td>\n",
       "      <td>347742</td>\n",
       "      <td>11.1333</td>\n",
       "      <td>NaN</td>\n",
       "      <td>S</td>\n",
       "    </tr>\n",
       "    <tr>\n",
       "      <th>9</th>\n",
       "      <td>10</td>\n",
       "      <td>1</td>\n",
       "      <td>2</td>\n",
       "      <td>Nasser, Mrs. Nicholas (Adele Achem)</td>\n",
       "      <td>female</td>\n",
       "      <td>14.0</td>\n",
       "      <td>1</td>\n",
       "      <td>0</td>\n",
       "      <td>237736</td>\n",
       "      <td>30.0708</td>\n",
       "      <td>NaN</td>\n",
       "      <td>C</td>\n",
       "    </tr>\n",
       "  </tbody>\n",
       "</table>\n",
       "</div>"
      ],
      "text/plain": [
       "   PassengerId  Survived  Pclass  \\\n",
       "0            1         0       3   \n",
       "1            2         1       1   \n",
       "2            3         1       3   \n",
       "3            4         1       1   \n",
       "4            5         0       3   \n",
       "5            6         0       3   \n",
       "6            7         0       1   \n",
       "7            8         0       3   \n",
       "8            9         1       3   \n",
       "9           10         1       2   \n",
       "\n",
       "                                                Name     Sex   Age  SibSp  \\\n",
       "0                            Braund, Mr. Owen Harris    male  22.0      1   \n",
       "1  Cumings, Mrs. John Bradley (Florence Briggs Th...  female  38.0      1   \n",
       "2                             Heikkinen, Miss. Laina  female  26.0      0   \n",
       "3       Futrelle, Mrs. Jacques Heath (Lily May Peel)  female  35.0      1   \n",
       "4                           Allen, Mr. William Henry    male  35.0      0   \n",
       "5                                   Moran, Mr. James    male   NaN      0   \n",
       "6                            McCarthy, Mr. Timothy J    male  54.0      0   \n",
       "7                     Palsson, Master. Gosta Leonard    male   2.0      3   \n",
       "8  Johnson, Mrs. Oscar W (Elisabeth Vilhelmina Berg)  female  27.0      0   \n",
       "9                Nasser, Mrs. Nicholas (Adele Achem)  female  14.0      1   \n",
       "\n",
       "   Parch            Ticket     Fare Cabin Embarked  \n",
       "0      0         A/5 21171   7.2500   NaN        S  \n",
       "1      0          PC 17599  71.2833   C85        C  \n",
       "2      0  STON/O2. 3101282   7.9250   NaN        S  \n",
       "3      0            113803  53.1000  C123        S  \n",
       "4      0            373450   8.0500   NaN        S  \n",
       "5      0            330877   8.4583   NaN        Q  \n",
       "6      0             17463  51.8625   E46        S  \n",
       "7      1            349909  21.0750   NaN        S  \n",
       "8      2            347742  11.1333   NaN        S  \n",
       "9      0            237736  30.0708   NaN        C  "
      ]
     },
     "execution_count": 3,
     "metadata": {},
     "output_type": "execute_result"
    }
   ],
   "source": [
    "train.head(10)"
   ]
  },
  {
   "cell_type": "code",
   "execution_count": 4,
   "metadata": {},
   "outputs": [
    {
     "data": {
      "text/plain": [
       "PassengerId      0\n",
       "Survived         0\n",
       "Pclass           0\n",
       "Name             0\n",
       "Sex              0\n",
       "Age            177\n",
       "SibSp            0\n",
       "Parch            0\n",
       "Ticket           0\n",
       "Fare             0\n",
       "Cabin          687\n",
       "Embarked         2\n",
       "dtype: int64"
      ]
     },
     "execution_count": 4,
     "metadata": {},
     "output_type": "execute_result"
    }
   ],
   "source": [
    "train.isnull().sum()"
   ]
  },
  {
   "cell_type": "code",
   "execution_count": 5,
   "metadata": {},
   "outputs": [
    {
     "data": {
      "text/html": [
       "<div>\n",
       "<style scoped>\n",
       "    .dataframe tbody tr th:only-of-type {\n",
       "        vertical-align: middle;\n",
       "    }\n",
       "\n",
       "    .dataframe tbody tr th {\n",
       "        vertical-align: top;\n",
       "    }\n",
       "\n",
       "    .dataframe thead th {\n",
       "        text-align: right;\n",
       "    }\n",
       "</style>\n",
       "<table border=\"1\" class=\"dataframe\">\n",
       "  <thead>\n",
       "    <tr style=\"text-align: right;\">\n",
       "      <th></th>\n",
       "      <th>PassengerId</th>\n",
       "      <th>Survived</th>\n",
       "      <th>Pclass</th>\n",
       "      <th>Age</th>\n",
       "      <th>SibSp</th>\n",
       "      <th>Parch</th>\n",
       "      <th>Fare</th>\n",
       "    </tr>\n",
       "  </thead>\n",
       "  <tbody>\n",
       "    <tr>\n",
       "      <th>count</th>\n",
       "      <td>891.000000</td>\n",
       "      <td>891.000000</td>\n",
       "      <td>891.000000</td>\n",
       "      <td>714.000000</td>\n",
       "      <td>891.000000</td>\n",
       "      <td>891.000000</td>\n",
       "      <td>891.000000</td>\n",
       "    </tr>\n",
       "    <tr>\n",
       "      <th>mean</th>\n",
       "      <td>446.000000</td>\n",
       "      <td>0.383838</td>\n",
       "      <td>2.308642</td>\n",
       "      <td>29.699118</td>\n",
       "      <td>0.523008</td>\n",
       "      <td>0.381594</td>\n",
       "      <td>32.204208</td>\n",
       "    </tr>\n",
       "    <tr>\n",
       "      <th>std</th>\n",
       "      <td>257.353842</td>\n",
       "      <td>0.486592</td>\n",
       "      <td>0.836071</td>\n",
       "      <td>14.526497</td>\n",
       "      <td>1.102743</td>\n",
       "      <td>0.806057</td>\n",
       "      <td>49.693429</td>\n",
       "    </tr>\n",
       "    <tr>\n",
       "      <th>min</th>\n",
       "      <td>1.000000</td>\n",
       "      <td>0.000000</td>\n",
       "      <td>1.000000</td>\n",
       "      <td>0.420000</td>\n",
       "      <td>0.000000</td>\n",
       "      <td>0.000000</td>\n",
       "      <td>0.000000</td>\n",
       "    </tr>\n",
       "    <tr>\n",
       "      <th>25%</th>\n",
       "      <td>223.500000</td>\n",
       "      <td>0.000000</td>\n",
       "      <td>2.000000</td>\n",
       "      <td>20.125000</td>\n",
       "      <td>0.000000</td>\n",
       "      <td>0.000000</td>\n",
       "      <td>7.910400</td>\n",
       "    </tr>\n",
       "    <tr>\n",
       "      <th>50%</th>\n",
       "      <td>446.000000</td>\n",
       "      <td>0.000000</td>\n",
       "      <td>3.000000</td>\n",
       "      <td>28.000000</td>\n",
       "      <td>0.000000</td>\n",
       "      <td>0.000000</td>\n",
       "      <td>14.454200</td>\n",
       "    </tr>\n",
       "    <tr>\n",
       "      <th>75%</th>\n",
       "      <td>668.500000</td>\n",
       "      <td>1.000000</td>\n",
       "      <td>3.000000</td>\n",
       "      <td>38.000000</td>\n",
       "      <td>1.000000</td>\n",
       "      <td>0.000000</td>\n",
       "      <td>31.000000</td>\n",
       "    </tr>\n",
       "    <tr>\n",
       "      <th>max</th>\n",
       "      <td>891.000000</td>\n",
       "      <td>1.000000</td>\n",
       "      <td>3.000000</td>\n",
       "      <td>80.000000</td>\n",
       "      <td>8.000000</td>\n",
       "      <td>6.000000</td>\n",
       "      <td>512.329200</td>\n",
       "    </tr>\n",
       "  </tbody>\n",
       "</table>\n",
       "</div>"
      ],
      "text/plain": [
       "       PassengerId    Survived      Pclass         Age       SibSp  \\\n",
       "count   891.000000  891.000000  891.000000  714.000000  891.000000   \n",
       "mean    446.000000    0.383838    2.308642   29.699118    0.523008   \n",
       "std     257.353842    0.486592    0.836071   14.526497    1.102743   \n",
       "min       1.000000    0.000000    1.000000    0.420000    0.000000   \n",
       "25%     223.500000    0.000000    2.000000   20.125000    0.000000   \n",
       "50%     446.000000    0.000000    3.000000   28.000000    0.000000   \n",
       "75%     668.500000    1.000000    3.000000   38.000000    1.000000   \n",
       "max     891.000000    1.000000    3.000000   80.000000    8.000000   \n",
       "\n",
       "            Parch        Fare  \n",
       "count  891.000000  891.000000  \n",
       "mean     0.381594   32.204208  \n",
       "std      0.806057   49.693429  \n",
       "min      0.000000    0.000000  \n",
       "25%      0.000000    7.910400  \n",
       "50%      0.000000   14.454200  \n",
       "75%      0.000000   31.000000  \n",
       "max      6.000000  512.329200  "
      ]
     },
     "execution_count": 5,
     "metadata": {},
     "output_type": "execute_result"
    }
   ],
   "source": [
    "train.describe()"
   ]
  },
  {
   "cell_type": "code",
   "execution_count": 6,
   "metadata": {},
   "outputs": [
    {
     "data": {
      "text/plain": [
       "<matplotlib.axes._subplots.AxesSubplot at 0x10f90be0>"
      ]
     },
     "execution_count": 6,
     "metadata": {},
     "output_type": "execute_result"
    },
    {
     "data": {
      "text/plain": [
       "Text(0.5,1,'Survived')"
      ]
     },
     "execution_count": 6,
     "metadata": {},
     "output_type": "execute_result"
    },
    {
     "data": {
      "text/plain": [
       "Text(0,0.5,'')"
      ]
     },
     "execution_count": 6,
     "metadata": {},
     "output_type": "execute_result"
    },
    {
     "data": {
      "text/plain": [
       "<matplotlib.axes._subplots.AxesSubplot at 0x12fd4eb8>"
      ]
     },
     "execution_count": 6,
     "metadata": {},
     "output_type": "execute_result"
    },
    {
     "data": {
      "text/plain": [
       "Text(0.5,1,'Survived')"
      ]
     },
     "execution_count": 6,
     "metadata": {},
     "output_type": "execute_result"
    },
    {
     "data": {
      "image/png": "[encoded data removed]",
      "text/plain": [
       "<Figure size 1296x576 with 2 Axes>"
      ]
     },
     "metadata": {},
     "output_type": "display_data"
    }
   ],
   "source": [
    "f,ax = plt.subplots(1,2,figsize = (18,8)) #子图\n",
    "train['Survived'].value_counts().plot.pie(explode = [0,0.1],autopct = \"%1.1f%%\",ax = ax[0],shadow = True)\n",
    "ax[0].set_title('Survived')\n",
    "ax[0].set_ylabel('')\n",
    "sns.countplot('Survived',data = train,ax=ax[1])\n",
    "ax[1].set_title('Survived')\n",
    "# plt.show()"
   ]
  },
  {
   "cell_type": "code",
   "execution_count": 7,
   "metadata": {},
   "outputs": [
    {
     "data": {
      "text/plain": [
       "Sex     Survived\n",
       "female  0            81\n",
       "        1           233\n",
       "male    0           468\n",
       "        1           109\n",
       "Name: Survived, dtype: int64"
      ]
     },
     "execution_count": 7,
     "metadata": {},
     "output_type": "execute_result"
    }
   ],
   "source": [
    "# 离散值groupby\n",
    "train.groupby(['Sex','Survived'])['Survived'].count()"
   ]
  },
  {
   "cell_type": "code",
   "execution_count": 8,
   "metadata": {},
   "outputs": [
    {
     "data": {
      "text/plain": [
       "<matplotlib.axes._subplots.AxesSubplot at 0x13371048>"
      ]
     },
     "execution_count": 8,
     "metadata": {},
     "output_type": "execute_result"
    },
    {
     "data": {
      "text/plain": [
       "Text(0.5,1,'Survived vs sex')"
      ]
     },
     "execution_count": 8,
     "metadata": {},
     "output_type": "execute_result"
    },
    {
     "data": {
      "text/plain": [
       "<matplotlib.axes._subplots.AxesSubplot at 0x13073320>"
      ]
     },
     "execution_count": 8,
     "metadata": {},
     "output_type": "execute_result"
    },
    {
     "data": {
      "text/plain": [
       "Text(0.5,1,'Sex:Survived vs Dead')"
      ]
     },
     "execution_count": 8,
     "metadata": {},
     "output_type": "execute_result"
    },
    {
     "data": {
      "image/png": "[encoded data removed]",
      "text/plain": [
       "<Figure size 1296x576 with 2 Axes>"
      ]
     },
     "metadata": {},
     "output_type": "display_data"
    }
   ],
   "source": [
    "f,ax = plt.subplots(1,2,figsize = (18,8)) #子图\n",
    "train[['Sex','Survived']].groupby(['Sex']).mean().plot.bar(ax = ax[0])\n",
    "ax[0].set_title('Survived vs sex')\n",
    "sns.countplot('Sex',hue = 'Survived',data = train,ax=ax[1])\n",
    "ax[1].set_title('Sex:Survived vs Dead')\n",
    "# plt.show()"
   ]
  },
  {
   "cell_type": "code",
   "execution_count": 9,
   "metadata": {},
   "outputs": [
    {
     "data": {
      "text/html": [
       "<style  type=\"text/css\" >\n",
       "    #T_cf3fe7e2_84e1_11e8_8ca7_2c4d5498b6farow0_col0 {\n",
       "            background-color:  #ffff66;\n",
       "        }    #T_cf3fe7e2_84e1_11e8_8ca7_2c4d5498b6farow0_col1 {\n",
       "            background-color:  #cee666;\n",
       "        }    #T_cf3fe7e2_84e1_11e8_8ca7_2c4d5498b6farow0_col2 {\n",
       "            background-color:  #f4fa66;\n",
       "        }    #T_cf3fe7e2_84e1_11e8_8ca7_2c4d5498b6farow1_col0 {\n",
       "            background-color:  #f6fa66;\n",
       "        }    #T_cf3fe7e2_84e1_11e8_8ca7_2c4d5498b6farow1_col1 {\n",
       "            background-color:  #ffff66;\n",
       "        }    #T_cf3fe7e2_84e1_11e8_8ca7_2c4d5498b6farow1_col2 {\n",
       "            background-color:  #ffff66;\n",
       "        }    #T_cf3fe7e2_84e1_11e8_8ca7_2c4d5498b6farow2_col0 {\n",
       "            background-color:  #60b066;\n",
       "        }    #T_cf3fe7e2_84e1_11e8_8ca7_2c4d5498b6farow2_col1 {\n",
       "            background-color:  #dfef66;\n",
       "        }    #T_cf3fe7e2_84e1_11e8_8ca7_2c4d5498b6farow2_col2 {\n",
       "            background-color:  #90c866;\n",
       "        }    #T_cf3fe7e2_84e1_11e8_8ca7_2c4d5498b6farow3_col0 {\n",
       "            background-color:  #008066;\n",
       "        }    #T_cf3fe7e2_84e1_11e8_8ca7_2c4d5498b6farow3_col1 {\n",
       "            background-color:  #008066;\n",
       "        }    #T_cf3fe7e2_84e1_11e8_8ca7_2c4d5498b6farow3_col2 {\n",
       "            background-color:  #008066;\n",
       "        }</style>  \n",
       "<table id=\"T_cf3fe7e2_84e1_11e8_8ca7_2c4d5498b6fa\" > \n",
       "<thead>    <tr> \n",
       "        <th class=\"index_name level0\" >Survived</th> \n",
       "        <th class=\"col_heading level0 col0\" >0</th> \n",
       "        <th class=\"col_heading level0 col1\" >1</th> \n",
       "        <th class=\"col_heading level0 col2\" >All</th> \n",
       "    </tr>    <tr> \n",
       "        <th class=\"index_name level0\" >Pclass</th> \n",
       "        <th class=\"blank\" ></th> \n",
       "        <th class=\"blank\" ></th> \n",
       "        <th class=\"blank\" ></th> \n",
       "    </tr></thead> \n",
       "<tbody>    <tr> \n",
       "        <th id=\"T_cf3fe7e2_84e1_11e8_8ca7_2c4d5498b6falevel0_row0\" class=\"row_heading level0 row0\" >1</th> \n",
       "        <td id=\"T_cf3fe7e2_84e1_11e8_8ca7_2c4d5498b6farow0_col0\" class=\"data row0 col0\" >80</td> \n",
       "        <td id=\"T_cf3fe7e2_84e1_11e8_8ca7_2c4d5498b6farow0_col1\" class=\"data row0 col1\" >136</td> \n",
       "        <td id=\"T_cf3fe7e2_84e1_11e8_8ca7_2c4d5498b6farow0_col2\" class=\"data row0 col2\" >216</td> \n",
       "    </tr>    <tr> \n",
       "        <th id=\"T_cf3fe7e2_84e1_11e8_8ca7_2c4d5498b6falevel0_row1\" class=\"row_heading level0 row1\" >2</th> \n",
       "        <td id=\"T_cf3fe7e2_84e1_11e8_8ca7_2c4d5498b6farow1_col0\" class=\"data row1 col0\" >97</td> \n",
       "        <td id=\"T_cf3fe7e2_84e1_11e8_8ca7_2c4d5498b6farow1_col1\" class=\"data row1 col1\" >87</td> \n",
       "        <td id=\"T_cf3fe7e2_84e1_11e8_8ca7_2c4d5498b6farow1_col2\" class=\"data row1 col2\" >184</td> \n",
       "    </tr>    <tr> \n",
       "        <th id=\"T_cf3fe7e2_84e1_11e8_8ca7_2c4d5498b6falevel0_row2\" class=\"row_heading level0 row2\" >3</th> \n",
       "        <td id=\"T_cf3fe7e2_84e1_11e8_8ca7_2c4d5498b6farow2_col0\" class=\"data row2 col0\" >372</td> \n",
       "        <td id=\"T_cf3fe7e2_84e1_11e8_8ca7_2c4d5498b6farow2_col1\" class=\"data row2 col1\" >119</td> \n",
       "        <td id=\"T_cf3fe7e2_84e1_11e8_8ca7_2c4d5498b6farow2_col2\" class=\"data row2 col2\" >491</td> \n",
       "    </tr>    <tr> \n",
       "        <th id=\"T_cf3fe7e2_84e1_11e8_8ca7_2c4d5498b6falevel0_row3\" class=\"row_heading level0 row3\" >All</th> \n",
       "        <td id=\"T_cf3fe7e2_84e1_11e8_8ca7_2c4d5498b6farow3_col0\" class=\"data row3 col0\" >549</td> \n",
       "        <td id=\"T_cf3fe7e2_84e1_11e8_8ca7_2c4d5498b6farow3_col1\" class=\"data row3 col1\" >342</td> \n",
       "        <td id=\"T_cf3fe7e2_84e1_11e8_8ca7_2c4d5498b6farow3_col2\" class=\"data row3 col2\" >891</td> \n",
       "    </tr></tbody> \n",
       "</table> "
      ],
      "text/plain": [
       "<pandas.io.formats.style.Styler at 0x130d54a8>"
      ]
     },
     "execution_count": 9,
     "metadata": {},
     "output_type": "execute_result"
    }
   ],
   "source": [
    "# crosstable\n",
    "pd.crosstab(train.Pclass,train.Survived,margins = True).style.background_gradient(cmap = 'summer_r')\n",
    "# pd.crosstab(train.Sex,train.Survived,margins = True).style.background_gradient(cmap = 'summer_r')"
   ]
  },
  {
   "cell_type": "code",
   "execution_count": 10,
   "metadata": {},
   "outputs": [
    {
     "data": {
      "text/plain": [
       "<matplotlib.axes._subplots.AxesSubplot at 0x13b7b550>"
      ]
     },
     "execution_count": 10,
     "metadata": {},
     "output_type": "execute_result"
    },
    {
     "data": {
      "text/plain": [
       "Text(0.5,1,'Survived vs Pclass')"
      ]
     },
     "execution_count": 10,
     "metadata": {},
     "output_type": "execute_result"
    },
    {
     "data": {
      "text/plain": [
       "<matplotlib.axes._subplots.AxesSubplot at 0x13ba60b8>"
      ]
     },
     "execution_count": 10,
     "metadata": {},
     "output_type": "execute_result"
    },
    {
     "data": {
      "text/plain": [
       "Text(0.5,1,'Pclass:Survived vs Dead')"
      ]
     },
     "execution_count": 10,
     "metadata": {},
     "output_type": "execute_result"
    },
    {
     "data": {
      "image/png": "[encoded data removed]",
      "text/plain": [
       "<Figure size 1296x576 with 2 Axes>"
      ]
     },
     "metadata": {},
     "output_type": "display_data"
    }
   ],
   "source": [
    "f,ax = plt.subplots(1,2,figsize = (18,8)) #子图\n",
    "train[['Pclass','Survived']].groupby(['Pclass']).mean().plot.bar(ax = ax[0])\n",
    "ax[0].set_title('Survived vs Pclass')\n",
    "sns.countplot('Pclass',hue = 'Pclass',data = train,ax=ax[1])\n",
    "ax[1].set_title('Pclass:Survived vs Dead')\n",
    "# plt.show()"
   ]
  },
  {
   "cell_type": "code",
   "execution_count": 11,
   "metadata": {},
   "outputs": [
    {
     "data": {
      "text/html": [
       "<style  type=\"text/css\" >\n",
       "    #T_cf81abd0_84e1_11e8_b67b_2c4d5498b6farow0_col0 {\n",
       "            background-color:  #ffff66;\n",
       "        }    #T_cf81abd0_84e1_11e8_b67b_2c4d5498b6farow0_col1 {\n",
       "            background-color:  #ffff66;\n",
       "        }    #T_cf81abd0_84e1_11e8_b67b_2c4d5498b6farow0_col2 {\n",
       "            background-color:  #f1f866;\n",
       "        }    #T_cf81abd0_84e1_11e8_b67b_2c4d5498b6farow0_col3 {\n",
       "            background-color:  #ffff66;\n",
       "        }    #T_cf81abd0_84e1_11e8_b67b_2c4d5498b6farow1_col0 {\n",
       "            background-color:  #96cb66;\n",
       "        }    #T_cf81abd0_84e1_11e8_b67b_2c4d5498b6farow1_col1 {\n",
       "            background-color:  #a3d166;\n",
       "        }    #T_cf81abd0_84e1_11e8_b67b_2c4d5498b6farow1_col2 {\n",
       "            background-color:  #f1f866;\n",
       "        }    #T_cf81abd0_84e1_11e8_b67b_2c4d5498b6farow1_col3 {\n",
       "            background-color:  #cfe766;\n",
       "        }    #T_cf81abd0_84e1_11e8_b67b_2c4d5498b6farow2_col0 {\n",
       "            background-color:  #a7d366;\n",
       "        }    #T_cf81abd0_84e1_11e8_b67b_2c4d5498b6farow2_col1 {\n",
       "            background-color:  #85c266;\n",
       "        }    #T_cf81abd0_84e1_11e8_b67b_2c4d5498b6farow2_col2 {\n",
       "            background-color:  #6eb666;\n",
       "        }    #T_cf81abd0_84e1_11e8_b67b_2c4d5498b6farow2_col3 {\n",
       "            background-color:  #85c266;\n",
       "        }    #T_cf81abd0_84e1_11e8_b67b_2c4d5498b6farow3_col0 {\n",
       "            background-color:  #cde666;\n",
       "        }    #T_cf81abd0_84e1_11e8_b67b_2c4d5498b6farow3_col1 {\n",
       "            background-color:  #f0f866;\n",
       "        }    #T_cf81abd0_84e1_11e8_b67b_2c4d5498b6farow3_col2 {\n",
       "            background-color:  #ffff66;\n",
       "        }    #T_cf81abd0_84e1_11e8_b67b_2c4d5498b6farow3_col3 {\n",
       "            background-color:  #f7fb66;\n",
       "        }    #T_cf81abd0_84e1_11e8_b67b_2c4d5498b6farow4_col0 {\n",
       "            background-color:  #008066;\n",
       "        }    #T_cf81abd0_84e1_11e8_b67b_2c4d5498b6farow4_col1 {\n",
       "            background-color:  #008066;\n",
       "        }    #T_cf81abd0_84e1_11e8_b67b_2c4d5498b6farow4_col2 {\n",
       "            background-color:  #008066;\n",
       "        }    #T_cf81abd0_84e1_11e8_b67b_2c4d5498b6farow4_col3 {\n",
       "            background-color:  #008066;\n",
       "        }</style>  \n",
       "<table id=\"T_cf81abd0_84e1_11e8_b67b_2c4d5498b6fa\" > \n",
       "<thead>    <tr> \n",
       "        <th class=\"blank\" ></th> \n",
       "        <th class=\"index_name level0\" >Pclass</th> \n",
       "        <th class=\"col_heading level0 col0\" >1</th> \n",
       "        <th class=\"col_heading level0 col1\" >2</th> \n",
       "        <th class=\"col_heading level0 col2\" >3</th> \n",
       "        <th class=\"col_heading level0 col3\" >All</th> \n",
       "    </tr>    <tr> \n",
       "        <th class=\"index_name level0\" >Sex</th> \n",
       "        <th class=\"index_name level1\" >Survived</th> \n",
       "        <th class=\"blank\" ></th> \n",
       "        <th class=\"blank\" ></th> \n",
       "        <th class=\"blank\" ></th> \n",
       "        <th class=\"blank\" ></th> \n",
       "    </tr></thead> \n",
       "<tbody>    <tr> \n",
       "        <th id=\"T_cf81abd0_84e1_11e8_b67b_2c4d5498b6falevel0_row0\" class=\"row_heading level0 row0\" rowspan=2>female</th> \n",
       "        <th id=\"T_cf81abd0_84e1_11e8_b67b_2c4d5498b6falevel1_row0\" class=\"row_heading level1 row0\" >0</th> \n",
       "        <td id=\"T_cf81abd0_84e1_11e8_b67b_2c4d5498b6farow0_col0\" class=\"data row0 col0\" >3</td> \n",
       "        <td id=\"T_cf81abd0_84e1_11e8_b67b_2c4d5498b6farow0_col1\" class=\"data row0 col1\" >6</td> \n",
       "        <td id=\"T_cf81abd0_84e1_11e8_b67b_2c4d5498b6farow0_col2\" class=\"data row0 col2\" >72</td> \n",
       "        <td id=\"T_cf81abd0_84e1_11e8_b67b_2c4d5498b6farow0_col3\" class=\"data row0 col3\" >81</td> \n",
       "    </tr>    <tr> \n",
       "        <th id=\"T_cf81abd0_84e1_11e8_b67b_2c4d5498b6falevel1_row1\" class=\"row_heading level1 row1\" >1</th> \n",
       "        <td id=\"T_cf81abd0_84e1_11e8_b67b_2c4d5498b6farow1_col0\" class=\"data row1 col0\" >91</td> \n",
       "        <td id=\"T_cf81abd0_84e1_11e8_b67b_2c4d5498b6farow1_col1\" class=\"data row1 col1\" >70</td> \n",
       "        <td id=\"T_cf81abd0_84e1_11e8_b67b_2c4d5498b6farow1_col2\" class=\"data row1 col2\" >72</td> \n",
       "        <td id=\"T_cf81abd0_84e1_11e8_b67b_2c4d5498b6farow1_col3\" class=\"data row1 col3\" >233</td> \n",
       "    </tr>    <tr> \n",
       "        <th id=\"T_cf81abd0_84e1_11e8_b67b_2c4d5498b6falevel0_row2\" class=\"row_heading level0 row2\" rowspan=2>male</th> \n",
       "        <th id=\"T_cf81abd0_84e1_11e8_b67b_2c4d5498b6falevel1_row2\" class=\"row_heading level1 row2\" >0</th> \n",
       "        <td id=\"T_cf81abd0_84e1_11e8_b67b_2c4d5498b6farow2_col0\" class=\"data row2 col0\" >77</td> \n",
       "        <td id=\"T_cf81abd0_84e1_11e8_b67b_2c4d5498b6farow2_col1\" class=\"data row2 col1\" >91</td> \n",
       "        <td id=\"T_cf81abd0_84e1_11e8_b67b_2c4d5498b6farow2_col2\" class=\"data row2 col2\" >300</td> \n",
       "        <td id=\"T_cf81abd0_84e1_11e8_b67b_2c4d5498b6farow2_col3\" class=\"data row2 col3\" >468</td> \n",
       "    </tr>    <tr> \n",
       "        <th id=\"T_cf81abd0_84e1_11e8_b67b_2c4d5498b6falevel1_row3\" class=\"row_heading level1 row3\" >1</th> \n",
       "        <td id=\"T_cf81abd0_84e1_11e8_b67b_2c4d5498b6farow3_col0\" class=\"data row3 col0\" >45</td> \n",
       "        <td id=\"T_cf81abd0_84e1_11e8_b67b_2c4d5498b6farow3_col1\" class=\"data row3 col1\" >17</td> \n",
       "        <td id=\"T_cf81abd0_84e1_11e8_b67b_2c4d5498b6farow3_col2\" class=\"data row3 col2\" >47</td> \n",
       "        <td id=\"T_cf81abd0_84e1_11e8_b67b_2c4d5498b6farow3_col3\" class=\"data row3 col3\" >109</td> \n",
       "    </tr>    <tr> \n",
       "        <th id=\"T_cf81abd0_84e1_11e8_b67b_2c4d5498b6falevel0_row4\" class=\"row_heading level0 row4\" >All</th> \n",
       "        <th id=\"T_cf81abd0_84e1_11e8_b67b_2c4d5498b6falevel1_row4\" class=\"row_heading level1 row4\" ></th> \n",
       "        <td id=\"T_cf81abd0_84e1_11e8_b67b_2c4d5498b6farow4_col0\" class=\"data row4 col0\" >216</td> \n",
       "        <td id=\"T_cf81abd0_84e1_11e8_b67b_2c4d5498b6farow4_col1\" class=\"data row4 col1\" >184</td> \n",
       "        <td id=\"T_cf81abd0_84e1_11e8_b67b_2c4d5498b6farow4_col2\" class=\"data row4 col2\" >491</td> \n",
       "        <td id=\"T_cf81abd0_84e1_11e8_b67b_2c4d5498b6farow4_col3\" class=\"data row4 col3\" >891</td> \n",
       "    </tr></tbody> \n",
       "</table> "
      ],
      "text/plain": [
       "<pandas.io.formats.style.Styler at 0x13bf1e10>"
      ]
     },
     "execution_count": 11,
     "metadata": {},
     "output_type": "execute_result"
    }
   ],
   "source": [
    "pd.crosstab([train.Sex,train.Survived],train.Pclass,margins = True).style.background_gradient(cmap = 'summer_r')"
   ]
  },
  {
   "cell_type": "code",
   "execution_count": 12,
   "metadata": {},
   "outputs": [
    {
     "data": {
      "text/plain": [
       "<seaborn.axisgrid.FacetGrid at 0xee20da0>"
      ]
     },
     "execution_count": 12,
     "metadata": {},
     "output_type": "execute_result"
    },
    {
     "data": {
      "image/png": "[encoded data removed]",
      "text/plain": [
       "<Figure size 358.5x288 with 1 Axes>"
      ]
     },
     "metadata": {},
     "output_type": "display_data"
    }
   ],
   "source": [
    "sns.factorplot('Pclass','Survived',hue = 'Sex',data = train)\n",
    "# plt.show()"
   ]
  },
  {
   "cell_type": "code",
   "execution_count": 15,
   "metadata": {},
   "outputs": [
    {
     "data": {
      "text/plain": [
       "<matplotlib.axes._subplots.AxesSubplot at 0x5409630>"
      ]
     },
     "execution_count": 15,
     "metadata": {},
     "output_type": "execute_result"
    },
    {
     "data": {
      "text/plain": [
       "Text(0.5,1,'Pclass and Age vs Survived')"
      ]
     },
     "execution_count": 15,
     "metadata": {},
     "output_type": "execute_result"
    },
    {
     "data": {
      "text/plain": [
       "[<matplotlib.axis.YTick at 0x542ecc0>,\n",
       " <matplotlib.axis.YTick at 0x542e5f8>,\n",
       " <matplotlib.axis.YTick at 0x13e90a90>,\n",
       " <matplotlib.axis.YTick at 0x549a6d8>,\n",
       " <matplotlib.axis.YTick at 0x549aba8>,\n",
       " <matplotlib.axis.YTick at 0x54a1128>,\n",
       " <matplotlib.axis.YTick at 0x549a780>,\n",
       " <matplotlib.axis.YTick at 0x54a14a8>,\n",
       " <matplotlib.axis.YTick at 0x54a1978>,\n",
       " <matplotlib.axis.YTick at 0x54a1e48>,\n",
       " <matplotlib.axis.YTick at 0x54ab358>]"
      ]
     },
     "execution_count": 15,
     "metadata": {},
     "output_type": "execute_result"
    },
    {
     "data": {
      "text/plain": [
       "<matplotlib.axes._subplots.AxesSubplot at 0x543dc88>"
      ]
     },
     "execution_count": 15,
     "metadata": {},
     "output_type": "execute_result"
    },
    {
     "data": {
      "text/plain": [
       "Text(0.5,1,'Sex and Age vs Survived')"
      ]
     },
     "execution_count": 15,
     "metadata": {},
     "output_type": "execute_result"
    },
    {
     "data": {
      "text/plain": [
       "[<matplotlib.axis.YTick at 0x5455400>,\n",
       " <matplotlib.axis.YTick at 0x544ec88>,\n",
       " <matplotlib.axis.YTick at 0x5446ba8>,\n",
       " <matplotlib.axis.YTick at 0x54cae48>,\n",
       " <matplotlib.axis.YTick at 0x54d62e8>,\n",
       " <matplotlib.axis.YTick at 0x54d67b8>,\n",
       " <matplotlib.axis.YTick at 0x54d6c88>,\n",
       " <matplotlib.axis.YTick at 0x54db198>,\n",
       " <matplotlib.axis.YTick at 0x54db668>,\n",
       " <matplotlib.axis.YTick at 0x54dbb38>,\n",
       " <matplotlib.axis.YTick at 0x54e20b8>]"
      ]
     },
     "execution_count": 15,
     "metadata": {},
     "output_type": "execute_result"
    },
    {
     "data": {
      "image/png": "[encoded data removed]",
      "text/plain": [
       "<Figure size 1296x576 with 2 Axes>"
      ]
     },
     "metadata": {},
     "output_type": "display_data"
    }
   ],
   "source": [
    "# 连续性变量\n",
    "f,ax = plt.subplots(1,2,figsize = (18,8)) #子图\n",
    "sns.violinplot('Pclass','Age',hue = 'Survived',data = train,split = True,ax = ax[0])\n",
    "ax[0].set_title('Pclass and Age vs Survived')\n",
    "ax[0].set_yticks(range(0,110,10))\n",
    "sns.violinplot('Sex','Age',hue = 'Survived',data = train,split = True,ax = ax[1])\n",
    "ax[1].set_title('Sex and Age vs Survived')\n",
    "ax[1].set_yticks(range(0,110,10))\n",
    "# plt.show()"
   ]
  },
  {
   "cell_type": "code",
   "execution_count": 16,
   "metadata": {},
   "outputs": [],
   "source": [
    "# 缺失值补充\n",
    "# 多余30%左右直接提出\n",
    "# 均值/众数/经验值/回归预测/分组找接近值\n",
    "train['Initial'] = 0\n",
    "for i in train:\n",
    "    train['Initial'] = train.Name.str.extract('([A-Za-z]+)\\.')"
   ]
  },
  {
   "cell_type": "code",
   "execution_count": 18,
   "metadata": {},
   "outputs": [
    {
     "data": {
      "text/html": [
       "<div>\n",
       "<style scoped>\n",
       "    .dataframe tbody tr th:only-of-type {\n",
       "        vertical-align: middle;\n",
       "    }\n",
       "\n",
       "    .dataframe tbody tr th {\n",
       "        vertical-align: top;\n",
       "    }\n",
       "\n",
       "    .dataframe thead th {\n",
       "        text-align: right;\n",
       "    }\n",
       "</style>\n",
       "<table border=\"1\" class=\"dataframe\">\n",
       "  <thead>\n",
       "    <tr style=\"text-align: right;\">\n",
       "      <th>Initial</th>\n",
       "      <th>Capt</th>\n",
       "      <th>Col</th>\n",
       "      <th>Countess</th>\n",
       "      <th>Don</th>\n",
       "      <th>Dr</th>\n",
       "      <th>Jonkheer</th>\n",
       "      <th>Lady</th>\n",
       "      <th>Major</th>\n",
       "      <th>Master</th>\n",
       "      <th>Miss</th>\n",
       "      <th>Mlle</th>\n",
       "      <th>Mme</th>\n",
       "      <th>Mr</th>\n",
       "      <th>Mrs</th>\n",
       "      <th>Ms</th>\n",
       "      <th>Rev</th>\n",
       "      <th>Sir</th>\n",
       "    </tr>\n",
       "    <tr>\n",
       "      <th>Sex</th>\n",
       "      <th></th>\n",
       "      <th></th>\n",
       "      <th></th>\n",
       "      <th></th>\n",
       "      <th></th>\n",
       "      <th></th>\n",
       "      <th></th>\n",
       "      <th></th>\n",
       "      <th></th>\n",
       "      <th></th>\n",
       "      <th></th>\n",
       "      <th></th>\n",
       "      <th></th>\n",
       "      <th></th>\n",
       "      <th></th>\n",
       "      <th></th>\n",
       "      <th></th>\n",
       "    </tr>\n",
       "  </thead>\n",
       "  <tbody>\n",
       "    <tr>\n",
       "      <th>female</th>\n",
       "      <td>0</td>\n",
       "      <td>0</td>\n",
       "      <td>1</td>\n",
       "      <td>0</td>\n",
       "      <td>1</td>\n",
       "      <td>0</td>\n",
       "      <td>1</td>\n",
       "      <td>0</td>\n",
       "      <td>0</td>\n",
       "      <td>182</td>\n",
       "      <td>2</td>\n",
       "      <td>1</td>\n",
       "      <td>0</td>\n",
       "      <td>125</td>\n",
       "      <td>1</td>\n",
       "      <td>0</td>\n",
       "      <td>0</td>\n",
       "    </tr>\n",
       "    <tr>\n",
       "      <th>male</th>\n",
       "      <td>1</td>\n",
       "      <td>2</td>\n",
       "      <td>0</td>\n",
       "      <td>1</td>\n",
       "      <td>6</td>\n",
       "      <td>1</td>\n",
       "      <td>0</td>\n",
       "      <td>2</td>\n",
       "      <td>40</td>\n",
       "      <td>0</td>\n",
       "      <td>0</td>\n",
       "      <td>0</td>\n",
       "      <td>517</td>\n",
       "      <td>0</td>\n",
       "      <td>0</td>\n",
       "      <td>6</td>\n",
       "      <td>1</td>\n",
       "    </tr>\n",
       "  </tbody>\n",
       "</table>\n",
       "</div>"
      ],
      "text/plain": [
       "Initial  Capt  Col  Countess  Don  Dr  Jonkheer  Lady  Major  Master  Miss  \\\n",
       "Sex                                                                          \n",
       "female      0    0         1    0   1         0     1      0       0   182   \n",
       "male        1    2         0    1   6         1     0      2      40     0   \n",
       "\n",
       "Initial  Mlle  Mme   Mr  Mrs  Ms  Rev  Sir  \n",
       "Sex                                         \n",
       "female      2    1    0  125   1    0    0  \n",
       "male        0    0  517    0   0    6    1  "
      ]
     },
     "execution_count": 18,
     "metadata": {},
     "output_type": "execute_result"
    }
   ],
   "source": [
    "pd.crosstab(train.Initial,train.Sex).T"
   ]
  },
  {
   "cell_type": "code",
   "execution_count": 20,
   "metadata": {},
   "outputs": [],
   "source": [
    "train['Initial'].replace(['Mlle','Mme','Ms','Dr','Major','Lady','Countess','Jonkheer','Col','Rev','Capt','Sir','Don'],['Miss','Miss','Miss','Mr','Mr','Mrs','Mrs','Other','Other','Other','Mr','Mr','Mr'],inplace=True)"
   ]
  },
  {
   "cell_type": "code",
   "execution_count": 25,
   "metadata": {},
   "outputs": [
    {
     "data": {
      "text/plain": [
       "Initial\n",
       "Master     4.574167\n",
       "Miss      21.860000\n",
       "Mr        32.739609\n",
       "Mrs       35.981818\n",
       "Other     45.888889\n",
       "Name: Age, dtype: float64"
      ]
     },
     "execution_count": 25,
     "metadata": {},
     "output_type": "execute_result"
    }
   ],
   "source": [
    "train.groupby('Initial')['Age'].mean()"
   ]
  },
  {
   "cell_type": "code",
   "execution_count": 27,
   "metadata": {},
   "outputs": [],
   "source": [
    "train.loc[(train.Age.isnull())&(train.Initial == 'Mr'),'Age'] =33\n",
    "train.loc[(train.Age.isnull())&(train.Initial == 'Master'),'Age'] =5\n",
    "train.loc[(train.Age.isnull())&(train.Initial == 'Miss'),'Age'] =22\n",
    "train.loc[(train.Age.isnull())&(train.Initial == 'Mrs'),'Age'] =36\n",
    "train.loc[(train.Age.isnull())&(train.Initial == 'Other'),'Age'] =46"
   ]
  },
  {
   "cell_type": "code",
   "execution_count": 28,
   "metadata": {},
   "outputs": [
    {
     "data": {
      "text/plain": [
       "False"
      ]
     },
     "execution_count": 28,
     "metadata": {},
     "output_type": "execute_result"
    }
   ],
   "source": [
    "train['Age'].isnull().any()"
   ]
  },
  {
   "cell_type": "code",
   "execution_count": null,
   "metadata": {},
   "outputs": [],
   "source": []
  }
 ],
 "metadata": {
  "kernelspec": {
   "display_name": "Python 3",
   "language": "python",
   "name": "python3"
  },
  "language_info": {
   "codemirror_mode": {
    "name": "ipython",
    "version": 3
   },
   "file_extension": ".py",
   "mimetype": "text/x-python",
   "name": "python",
   "nbconvert_exporter": "python",
   "pygments_lexer": "ipython3",
   "version": "3.6.5"
  }
 },
 "nbformat": 4,
 "nbformat_minor": 2
}
